{
  "nbformat": 4,
  "nbformat_minor": 0,
  "metadata": {
    "colab": {
      "provenance": [],
      "toc_visible": true
    },
    "kernelspec": {
      "name": "python3",
      "display_name": "Python 3"
    },
    "language_info": {
      "name": "python"
    }
  },
  "cells": [
    {
      "cell_type": "code",
      "execution_count": null,
      "metadata": {
        "id": "U6XQy_sHPt8c"
      },
      "outputs": [],
      "source": [
        "# Comments\n",
        "def fn():\n",
        "    pass\n",
        "\n",
        "def greatest_integer():\n",
        "    pass\n",
        "\n",
        "def main():\n",
        "  ### Your Code Goes Here -- starting with indentation (lines up)\n",
        "\n",
        "  pass\n",
        "\n",
        "if __name__ == '__main__':\n",
        "    main()"
      ]
    },
    {
      "cell_type": "markdown",
      "source": [
        "Problem 1:\n",
        "(1) Write a function avg_num that take two parameters, calculate their average and return average.\n",
        "(2) Write a function print_str that take one parameter, and print that parameter.\n",
        "(3) Write a function my_num that takes no parameters, and returns your favorite number.\n",
        "Write a function hello_msg that takes no parameters, and prints \"hello world\"."
      ],
      "metadata": {
        "id": "qtjCUlDqoyRi"
      }
    },
    {
      "cell_type": "code",
      "source": [
        "def avg_num(value1, value2):\n",
        "  average = (value1 + value2)/2\n",
        "  return average\n",
        "\n",
        "def print_str(value1):\n",
        "  print(value1)\n",
        "\n",
        "def my_num():\n",
        "  return 1\n",
        "\n",
        "def hello_msg():\n",
        "  print(\"hello world\")\n",
        "\n",
        "def main():\n",
        "  A = avg_num(2, 4)\n",
        "  print(A)\n",
        "  print_str(2)\n",
        "  B = my_num()\n",
        "  print(B)\n",
        "  hello_msg()\n",
        "  pass\n",
        "\n",
        "if __name__ == '__main__':\n",
        "    main()\n"
      ],
      "metadata": {
        "id": "Lj8ZenHSp7X2",
        "colab": {
          "base_uri": "https://localhost:8080/"
        },
        "outputId": "448fb9e7-99ec-4368-c948-53374967d1e6"
      },
      "execution_count": 20,
      "outputs": [
        {
          "output_type": "stream",
          "name": "stdout",
          "text": [
            "3.0\n",
            "2\n",
            "1\n",
            "hello world\n"
          ]
        }
      ]
    },
    {
      "cell_type": "markdown",
      "source": [
        "Problem 2: Create a function exp_growth that take three inputs (A, k, and t) and calculates and returns the estimated population (P) of a country using the exponential growth/decay model. Use the following formula: P=Ae^kt\n",
        "\n",
        "P = the population after exponential growth has been applied\n",
        "\n",
        "A = the initial population\n",
        "\n",
        "e = Euler’s Number (Use 2.7 in your program to estimate this number)\n",
        "\n",
        "k = growth rate\n",
        "\n",
        "t = time in years"
      ],
      "metadata": {
        "id": "pDjT4fIFpPKl"
      }
    },
    {
      "cell_type": "code",
      "source": [
        "def exp_growth(A, k, t):\n",
        "  P = A * 2.7 ** (k * t)\n",
        "  return P\n",
        "def main():\n",
        "  A = exp_growth(10000, 0.05, 10)\n",
        "  print(A)\n",
        "\n",
        "  pass\n",
        "\n",
        "if __name__ == '__main__':\n",
        "    main()\n"
      ],
      "metadata": {
        "colab": {
          "base_uri": "https://localhost:8080/"
        },
        "id": "-NnHhLFn7Iri",
        "outputId": "6a0a2eaf-a1da-418c-e9bc-45dedb1c69e0"
      },
      "execution_count": 13,
      "outputs": [
        {
          "output_type": "stream",
          "name": "stdout",
          "text": [
            "16431.676725154983\n"
          ]
        }
      ]
    },
    {
      "cell_type": "markdown",
      "source": [
        "Problem 3:\n",
        "Create a function point_distance that take four inputs (x1, y1, x2, and y2) and calculates and returns the distance (d) between two points using the distance formula. Use the following formula:\n",
        "\n",
        "d = the distance between the two points\n",
        "\n",
        "x1, y1 = first (x, y) coordinates\n",
        "\n",
        "x2, y2 = second (x, y) coordinates"
      ],
      "metadata": {
        "id": "NpH6ApHepifI"
      }
    },
    {
      "cell_type": "code",
      "source": [
        "import math\n",
        "def point_distance(x1, y1, x2, y2):\n",
        "  d = math.sqrt((x1 - x2) **2 + (y1 - y2)**2)\n",
        "  return d\n",
        "\n",
        "def main():\n",
        "  distance = point_distance(2, 3, -4, 3)\n",
        "  print(distance)\n",
        "  pass\n",
        "\n",
        "if __name__ == '__main__':\n",
        "    main()"
      ],
      "metadata": {
        "colab": {
          "base_uri": "https://localhost:8080/"
        },
        "id": "mbBJJCbH8Xhe",
        "outputId": "a57795a6-d8f5-4c60-a36f-86798e2f5386"
      },
      "execution_count": 16,
      "outputs": [
        {
          "output_type": "stream",
          "name": "stdout",
          "text": [
            "6.0\n"
          ]
        }
      ]
    },
    {
      "cell_type": "markdown",
      "source": [
        "Problem 4: Create a function slope that take four inputs (x1, y1, x2, and y2) and calculates and returns the slope (m) between the two points. Use the following formula:\n",
        "m= y2-y1/x2-x1\n",
        "\n",
        "m = the slope between the two points\n",
        "\n",
        "x1, y1 = first (x, y) coordinates\n",
        "\n",
        "x2, y2 = second (x, y) coordinates"
      ],
      "metadata": {
        "id": "ho1TdHfPpuM7"
      }
    },
    {
      "cell_type": "code",
      "source": [
        "def slope(x1, y1, x2, y2):\n",
        "  m = (y2 - y1) / (x2 - x1)\n",
        "  return m\n",
        "def main():\n",
        "  function = slope(4, 7, 5, 2)\n",
        "  print(function)\n",
        "  pass\n",
        "\n",
        "if __name__ == '__main__':\n",
        "    main()"
      ],
      "metadata": {
        "colab": {
          "base_uri": "https://localhost:8080/"
        },
        "id": "IF_nS7sB9lbb",
        "outputId": "e26d9129-957a-4f68-e3e4-9be9a224f52e"
      },
      "execution_count": 18,
      "outputs": [
        {
          "output_type": "stream",
          "name": "stdout",
          "text": [
            "-5.0\n"
          ]
        }
      ]
    }
  ]
}